{
 "cells": [
  {
   "cell_type": "markdown",
   "id": "13e4b5f4",
   "metadata": {},
   "source": [
    "# Question1. Create a function that takes three arguments a, b, c and returns the sum of the numbers that are evenly divided by c from the range a, b inclusive.\n",
    "Examples\n",
    "evenly_divisible(1, 10, 20) ➞ 0\n",
    "# No number between 1 and 10 can be evenly divided by 20.\n",
    "evenly_divisible(1, 10, 2) ➞ 30\n",
    "# 2 + 4 + 6 + 8 + 10 = 30\n",
    "evenly_divisible(1, 10, 3) ➞ 18\n",
    "# 3 + 6 + 9 = 18\n",
    "\n",
    "ANSWER-"
   ]
  },
  {
   "cell_type": "code",
   "execution_count": 11,
   "id": "786239ca",
   "metadata": {},
   "outputs": [
    {
     "name": "stdout",
     "output_type": "stream",
     "text": [
      "enter first number: 1\n",
      "enter second number: 10\n",
      "enter third number: 20\n",
      "(1, 10, 20) ->0\n",
      "enter first number: 1\n",
      "enter second number: 10\n",
      "enter third number: 2\n",
      "(1, 10, 2) ->30\n",
      "enter first number: 1\n",
      "enter second number: 10\n",
      "enter third number: 3\n",
      "(1, 10, 3) ->18\n",
      "enter first number: 1\n",
      "enter second number: 20\n",
      "enter third number: 5\n",
      "(1, 20, 5) ->50\n"
     ]
    }
   ],
   "source": [
    "def fun(a,b,c ):\n",
    "    divlst=[]\n",
    "    for i in range(a,b+1):\n",
    "        if i%c==0:\n",
    "            divlst.append(i)\n",
    "    print(f'{a,b,c} ->{sum(divlst)}')\n",
    "for j in range(4):\n",
    "    fun(int(input(\"enter first number: \")),int(input(\"enter second number: \")),int(input(\"enter third number: \")))\n",
    "            "
   ]
  },
  {
   "cell_type": "markdown",
   "id": "884f3dc4",
   "metadata": {},
   "source": [
    "# Question2. Create a function that returns True if a given inequality expression is correct and False otherwise.\n",
    "Examples\n",
    "correct_signs(\"3 < 7 < 11\") ➞ True\n",
    "correct_signs(\"13 > 44 > 33 >1\") ➞ False\n",
    "correct_signs(\"1 < 2 < 6 < 9 > 3\") ➞ True\n",
    "\n",
    "ANSWER-"
   ]
  },
  {
   "cell_type": "code",
   "execution_count": 13,
   "id": "f89f8b5b",
   "metadata": {},
   "outputs": [
    {
     "name": "stdout",
     "output_type": "stream",
     "text": [
      "enter the inequality 3<7<11\n",
      "3<7<11 -> True\n",
      "enter the inequality 20>10<5>2<1\n",
      "20>10<5>2<1 -> False\n",
      "enter the inequality 1<2<6<9>3\n",
      "1<2<6<9>3 -> True\n"
     ]
    }
   ],
   "source": [
    "def check():\n",
    "    in_string=input(\"enter the inequality \")\n",
    "    out_bool=eval(in_string)\n",
    "    print(f'{in_string} -> {out_bool}')\n",
    "          \n",
    "for i in range(3):\n",
    "          check()\n"
   ]
  },
  {
   "cell_type": "markdown",
   "id": "f944337e",
   "metadata": {},
   "source": [
    "# Question3. Create a function that replaces all the vowels in a string with a specified character.\n",
    "Examples\n",
    "replace_vowels(\"the aardvark\", \"#\") ➞ \"th# ##rdv#rk\"\n",
    "replace_vowels(\"minnie mouse\", \"?\") ➞\"m?nn?? m??s?\"\n",
    "replace_vowels(\"shakespeare\", \"*\") ➞ \"sh*k*sp**r*\"\n",
    "\n",
    "ANSWER-"
   ]
  },
  {
   "cell_type": "code",
   "execution_count": 14,
   "id": "5ffe043e",
   "metadata": {},
   "outputs": [
    {
     "name": "stdout",
     "output_type": "stream",
     "text": [
      "String: the aardvark\n",
      "Replacement character: #\n",
      "the aardvark # ➞ th# ##rdv#rk\n",
      "String: minnie mouse\n",
      "Replacement character: ?\n",
      "minnie mouse ? ➞ m?nn?? m??s?\n",
      "String: shakespeare\n",
      "Replacement character: *\n",
      "shakespeare * ➞ sh*k*sp**r*\n"
     ]
    }
   ],
   "source": [
    "def replaceVowels():\n",
    "    vowels = ['a','e','i','o','u','A','E','I','O','U']\n",
    "    in_string = input(\"String: \")\n",
    "    in_string_copy = in_string\n",
    "    in_char = input('Replacement character: ')\n",
    "    for ele in in_string:\n",
    "        if ele in vowels:\n",
    "            in_string = in_string.replace(ele,in_char)\n",
    "    print(f'{in_string_copy} {in_char} ➞ {in_string}')\n",
    "            \n",
    "for x in range(3):\n",
    "    replaceVowels()"
   ]
  },
  {
   "cell_type": "markdown",
   "id": "bec7ea78",
   "metadata": {},
   "source": [
    "# Question4. Write a function that calculates the factorial of a number recursively.\n",
    "Examples\n",
    "factorial(5) ➞ 120\n",
    "factorial(3) ➞ 6\n",
    "factorial(1) ➞ 1\n",
    "factorial(0) ➞ 1\n",
    "\n",
    "ANSWER-"
   ]
  },
  {
   "cell_type": "code",
   "execution_count": 17,
   "id": "1d927cf8",
   "metadata": {},
   "outputs": [
    {
     "name": "stdout",
     "output_type": "stream",
     "text": [
      "factorial(5) ➞ 120\n",
      "factorial(5) ➞ 6\n",
      "factorial(5) ➞ 1\n"
     ]
    }
   ],
   "source": [
    "def factorial(n):\n",
    "    if n==0:\n",
    "        return 1\n",
    "    return n*factorial(n-1)\n",
    "\n",
    "print(f'factorial(5) ➞ {factorial(5)}')\n",
    "print(f'factorial(5) ➞ {factorial(3)}')\n",
    "print(f'factorial(5) ➞ {factorial(0)}')\n"
   ]
  },
  {
   "cell_type": "markdown",
   "id": "be5f3653",
   "metadata": {},
   "source": [
    "# Question 5 Hamming distance is the number of characters that differ between two strings.\n",
    "To illustrate:\n",
    "String1: \"abcbba\"\n",
    "String2: \"abcbda\"\n",
    "Hamming Distance: 1 - \"b\" vs.\"d\" is the only difference.\n",
    "Create a function that computes the hamming distance between two strings.\n",
    "Examples\n",
    "hamming_distance(\"abcde\", \"bcdef\") ➞ 5\n",
    "hamming_distance(\"abcde\", \"abcde\") ➞ 0\n",
    "hamming_distance(\"strong\", \"strung\") ➞ 1\n",
    "\n",
    "ANSWER-"
   ]
  },
  {
   "cell_type": "code",
   "execution_count": 20,
   "id": "db5e8874",
   "metadata": {},
   "outputs": [
    {
     "name": "stdout",
     "output_type": "stream",
     "text": [
      "enter a string abcbba\n",
      "enter a second string abcbda\n",
      "Hamming Distance between two string is abcbba and abcbda is -> 1\n",
      "enter a string strong\n",
      "enter a second string string\n",
      "Hamming Distance between two string is strong and string is -> 1\n",
      "enter a string sanjay\n",
      "enter a second string book\n",
      "both string must be of same length\n"
     ]
    }
   ],
   "source": [
    "def hamming_distance():\n",
    "    in_string=input(\"enter a string \")\n",
    "    in_string1=input(\"enter a second string \")\n",
    "    if len(in_string)==len(in_string1):\n",
    "        count=0\n",
    "        for i in range(len(in_string)):\n",
    "            if in_string[i]!=in_string1[i]:\n",
    "                count=count+1\n",
    "                \n",
    "        print(f'Hamming Distance between two string is {in_string} and {in_string1} is -> {count}')\n",
    "              \n",
    "    else:\n",
    "              print(\"both string must be of same length\")\n",
    "              \n",
    "for j in range(3):\n",
    "              hamming_distance()"
   ]
  },
  {
   "cell_type": "code",
   "execution_count": null,
   "id": "ce62fb3a",
   "metadata": {},
   "outputs": [],
   "source": [
    "#########################################"
   ]
  }
 ],
 "metadata": {
  "kernelspec": {
   "display_name": "Python 3 (ipykernel)",
   "language": "python",
   "name": "python3"
  },
  "language_info": {
   "codemirror_mode": {
    "name": "ipython",
    "version": 3
   },
   "file_extension": ".py",
   "mimetype": "text/x-python",
   "name": "python",
   "nbconvert_exporter": "python",
   "pygments_lexer": "ipython3",
   "version": "3.9.12"
  }
 },
 "nbformat": 4,
 "nbformat_minor": 5
}
